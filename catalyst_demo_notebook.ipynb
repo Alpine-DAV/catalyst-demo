{
 "cells": [
  {
   "cell_type": "markdown",
   "id": "688b33b2-6f96-4677-bc7e-afe43b489885",
   "metadata": {},
   "source": [
    "## Catalyst Examples"
   ]
  },
  {
   "cell_type": "code",
   "execution_count": null,
   "id": "3e76d340-330a-44b4-8f42-d4879614caec",
   "metadata": {},
   "outputs": [],
   "source": [
    "import ascent # for Ascent's jupyter image viewer widget"
   ]
  },
  {
   "cell_type": "code",
   "execution_count": null,
   "id": "e1781f93-933f-42f5-a73e-593cd58f639b",
   "metadata": {},
   "outputs": [],
   "source": [
    "# cleanup\n",
    "!./cleanup.sh"
   ]
  },
  {
   "cell_type": "markdown",
   "id": "f7c36eca-fced-4f94-a6c2-bddb92a78049",
   "metadata": {},
   "source": [
    "### Simple Query Example"
   ]
  },
  {
   "cell_type": "code",
   "execution_count": null,
   "id": "3b1da1f3-cab2-438a-9def-f67d5e5ae50a",
   "metadata": {},
   "outputs": [],
   "source": [
    "!mpiexec -n 2 build/bin/CxxFullExampleV2 catalyst_scripts/simple_script.py "
   ]
  },
  {
   "cell_type": "markdown",
   "id": "eed72665-e906-4e1f-ba39-08fe5279d51b",
   "metadata": {},
   "source": [
    "### Grid Writer Example"
   ]
  },
  {
   "cell_type": "code",
   "execution_count": null,
   "id": "a88e5dc4-970b-4eb3-8544-5fab397a0634",
   "metadata": {},
   "outputs": [],
   "source": [
    "!mpiexec -n 4 build/bin/CxxFullExampleV2 catalyst_scripts/grid_writer_script.py "
   ]
  },
  {
   "cell_type": "markdown",
   "id": "6730d2d5-9f49-4a59-a402-b8e4bef0b59a",
   "metadata": {},
   "source": [
    "#### List created vtm output files"
   ]
  },
  {
   "cell_type": "code",
   "execution_count": null,
   "id": "68babf4c-edd3-49cb-890a-67f8d3727c3a",
   "metadata": {},
   "outputs": [],
   "source": [
    "!ls datasets/*"
   ]
  },
  {
   "cell_type": "markdown",
   "id": "dbbed5fa-a1a9-4f89-9753-7243c1d00ba8",
   "metadata": {},
   "source": [
    "### Basic Render Example"
   ]
  },
  {
   "cell_type": "code",
   "execution_count": null,
   "id": "5687b449-53d5-4883-b6bd-15f8c2e8ec6e",
   "metadata": {},
   "outputs": [],
   "source": [
    "!mpiexec -n 2 build/bin/CxxFullExampleV2 catalyst_scripts/basic_render_script.py "
   ]
  },
  {
   "cell_type": "code",
   "execution_count": null,
   "id": "7e01da8e-1526-40a5-835f-0f23308fb382",
   "metadata": {},
   "outputs": [],
   "source": [
    "# list all images which have been rendered to disk\n",
    "import glob\n",
    "image_files = glob.glob(\"datasets/RenderView*.png\")\n",
    "image_files.sort()"
   ]
  },
  {
   "cell_type": "code",
   "execution_count": null,
   "id": "5076914a-f426-4626-9751-4689820857f2",
   "metadata": {},
   "outputs": [],
   "source": [
    "ascent.jupyter.AscentImageSequenceViewer(image_files).show()"
   ]
  }
 ],
 "metadata": {
  "kernelspec": {
   "display_name": "Python 3 (ipykernel)",
   "language": "python",
   "name": "python3"
  },
  "language_info": {
   "codemirror_mode": {
    "name": "ipython",
    "version": 3
   },
   "file_extension": ".py",
   "mimetype": "text/x-python",
   "name": "python",
   "nbconvert_exporter": "python",
   "pygments_lexer": "ipython3",
   "version": "3.9.13"
  }
 },
 "nbformat": 4,
 "nbformat_minor": 5
}
